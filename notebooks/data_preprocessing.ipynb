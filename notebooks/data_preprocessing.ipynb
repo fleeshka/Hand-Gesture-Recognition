{
 "cells": [
  {
   "cell_type": "markdown",
   "id": "1911b0c2",
   "metadata": {},
   "source": [
    "## Converts COCO-style hand keypoint annotations to CSV format "
   ]
  },
  {
   "cell_type": "code",
   "execution_count": 1,
   "id": "3fe87bc2",
   "metadata": {},
   "outputs": [],
   "source": [
    "import json\n",
    "import pandas as pd\n",
    "import os\n",
    "from tqdm import tqdm\n",
    "from PIL import Image\n",
    "\n",
    "def coco_to_csv(coco_json_path, images_dir, output_csv='keypoints_dataset.csv', label_name='gesture'):\n",
    "    with open(coco_json_path, 'r') as f:\n",
    "        coco_data = json.load(f)\n",
    "\n",
    "    image_dict = {img['id']: img['file_name'] for img in coco_data['images']}\n",
    "    \n",
    "    rows = []\n",
    "    for ann in tqdm(coco_data['annotations'], desc=\"Processing annotations\"):\n",
    "        image_id = ann['image_id']\n",
    "        keypoints = ann['keypoints']\n",
    "        file_name = image_dict[image_id]\n",
    "        img_path = os.path.join(images_dir, file_name)\n",
    "\n",
    "        # Get image size for normalization\n",
    "        with Image.open(img_path) as img:\n",
    "            w, h = img.size\n",
    "\n",
    "        # Extract only x, y coords\n",
    "        coords = []\n",
    "        for i in range(0, len(keypoints), 3):\n",
    "            x = keypoints[i] / w\n",
    "            y = keypoints[i+1] / h\n",
    "            coords.extend([x, y])\n",
    "\n",
    "        label = ann.get('category_id', 0)\n",
    "\n",
    "        rows.append(coords + [label])\n",
    "\n",
    "    columns = [f\"x{i}\" if i%2==0 else f\"y{i//2}\" for i in range(42)] + [label_name]\n",
    "    df = pd.DataFrame(rows, columns=columns)\n",
    "    df.to_csv(output_csv, index=False)\n",
    "    print(f\"Saved {len(df)} samples to {output_csv}\")\n",
    "    return df\n"
   ]
  },
  {
   "cell_type": "code",
   "execution_count": 23,
   "id": "81e00ca5",
   "metadata": {},
   "outputs": [
    {
     "name": "stdout",
     "output_type": "stream",
     "text": [
      "CWD: c:\\Users\\flees\\Desktop\\Hand-Gesture-Recognition\\notebooks\n",
      "raw exists: True\n",
      "anno exists: False\n",
      "images exists: False\n",
      "processed dir exists: True\n"
     ]
    }
   ],
   "source": [
    "from pathlib import Path\n",
    "print(\"CWD:\", Path.cwd())\n",
    "print(\"raw exists:\", Path(\"../data/raw/hand_keypoint_dataset_26k\").resolve().exists())\n",
    "print(\"anno exists:\", Path(\"../data/raw/hand_keypoint_dataset_26k/coco_annotation/\").resolve().exists())\n",
    "print(\"images exists:\", Path(\"../data/raw/hand_keypoint_dataset_26k/images/train\").resolve().exists())\n",
    "print(\"processed dir exists:\", Path(\"../data/processed\").resolve().exists())\n"
   ]
  },
  {
   "cell_type": "code",
   "execution_count": 22,
   "id": "e5b40d5d",
   "metadata": {},
   "outputs": [
    {
     "ename": "FileNotFoundError",
     "evalue": "[Errno 2] No such file or directory: '../data/raw/hand_keypoint_dataset_26k/coco_annotation/train/_annotations.coco.json'",
     "output_type": "error",
     "traceback": [
      "\u001b[31m---------------------------------------------------------------------------\u001b[39m",
      "\u001b[31mFileNotFoundError\u001b[39m                         Traceback (most recent call last)",
      "\u001b[36mCell\u001b[39m\u001b[36m \u001b[39m\u001b[32mIn[22]\u001b[39m\u001b[32m, line 1\u001b[39m\n\u001b[32m----> \u001b[39m\u001b[32m1\u001b[39m \u001b[43mcoco_to_csv\u001b[49m\u001b[43m(\u001b[49m\n\u001b[32m      2\u001b[39m \u001b[43m    \u001b[49m\u001b[43mcoco_json_path\u001b[49m\u001b[43m=\u001b[49m\u001b[33;43m'\u001b[39;49m\u001b[33;43m../data/raw/hand_keypoint_dataset_26k/coco_annotation/train/_annotations.coco.json\u001b[39;49m\u001b[33;43m'\u001b[39;49m\u001b[43m,\u001b[49m\n\u001b[32m      3\u001b[39m \u001b[43m    \u001b[49m\u001b[43mimages_dir\u001b[49m\u001b[43m=\u001b[49m\u001b[33;43m'\u001b[39;49m\u001b[33;43m../data/raw/hand_keypoint_dataset_26k/images/train\u001b[39;49m\u001b[33;43m'\u001b[39;49m\u001b[43m,\u001b[49m\n\u001b[32m      4\u001b[39m \u001b[43m    \u001b[49m\u001b[43moutput_csv\u001b[49m\u001b[43m=\u001b[49m\u001b[33;43m'\u001b[39;49m\u001b[33;43m../data/preprocessed/train_keypoints.csv\u001b[39;49m\u001b[33;43m'\u001b[39;49m\n\u001b[32m      5\u001b[39m \u001b[43m)\u001b[49m\n",
      "\u001b[36mCell\u001b[39m\u001b[36m \u001b[39m\u001b[32mIn[1]\u001b[39m\u001b[32m, line 8\u001b[39m, in \u001b[36mcoco_to_csv\u001b[39m\u001b[34m(coco_json_path, images_dir, output_csv, label_name)\u001b[39m\n\u001b[32m      7\u001b[39m \u001b[38;5;28;01mdef\u001b[39;00m\u001b[38;5;250m \u001b[39m\u001b[34mcoco_to_csv\u001b[39m(coco_json_path, images_dir, output_csv=\u001b[33m'\u001b[39m\u001b[33mkeypoints_dataset.csv\u001b[39m\u001b[33m'\u001b[39m, label_name=\u001b[33m'\u001b[39m\u001b[33mgesture\u001b[39m\u001b[33m'\u001b[39m):\n\u001b[32m----> \u001b[39m\u001b[32m8\u001b[39m     \u001b[38;5;28;01mwith\u001b[39;00m \u001b[38;5;28;43mopen\u001b[39;49m\u001b[43m(\u001b[49m\u001b[43mcoco_json_path\u001b[49m\u001b[43m,\u001b[49m\u001b[43m \u001b[49m\u001b[33;43m'\u001b[39;49m\u001b[33;43mr\u001b[39;49m\u001b[33;43m'\u001b[39;49m\u001b[43m)\u001b[49m \u001b[38;5;28;01mas\u001b[39;00m f:\n\u001b[32m      9\u001b[39m         coco_data = json.load(f)\n\u001b[32m     11\u001b[39m     image_dict = {img[\u001b[33m'\u001b[39m\u001b[33mid\u001b[39m\u001b[33m'\u001b[39m]: img[\u001b[33m'\u001b[39m\u001b[33mfile_name\u001b[39m\u001b[33m'\u001b[39m] \u001b[38;5;28;01mfor\u001b[39;00m img \u001b[38;5;129;01min\u001b[39;00m coco_data[\u001b[33m'\u001b[39m\u001b[33mimages\u001b[39m\u001b[33m'\u001b[39m]}\n",
      "\u001b[36mFile \u001b[39m\u001b[32mc:\\Users\\flees\\Desktop\\Hand-Gesture-Recognition\\.venv\\Lib\\site-packages\\IPython\\core\\interactiveshell.py:343\u001b[39m, in \u001b[36m_modified_open\u001b[39m\u001b[34m(file, *args, **kwargs)\u001b[39m\n\u001b[32m    336\u001b[39m \u001b[38;5;28;01mif\u001b[39;00m file \u001b[38;5;129;01min\u001b[39;00m {\u001b[32m0\u001b[39m, \u001b[32m1\u001b[39m, \u001b[32m2\u001b[39m}:\n\u001b[32m    337\u001b[39m     \u001b[38;5;28;01mraise\u001b[39;00m \u001b[38;5;167;01mValueError\u001b[39;00m(\n\u001b[32m    338\u001b[39m         \u001b[33mf\u001b[39m\u001b[33m\"\u001b[39m\u001b[33mIPython won\u001b[39m\u001b[33m'\u001b[39m\u001b[33mt let you open fd=\u001b[39m\u001b[38;5;132;01m{\u001b[39;00mfile\u001b[38;5;132;01m}\u001b[39;00m\u001b[33m by default \u001b[39m\u001b[33m\"\u001b[39m\n\u001b[32m    339\u001b[39m         \u001b[33m\"\u001b[39m\u001b[33mas it is likely to crash IPython. If you know what you are doing, \u001b[39m\u001b[33m\"\u001b[39m\n\u001b[32m    340\u001b[39m         \u001b[33m\"\u001b[39m\u001b[33myou can use builtins\u001b[39m\u001b[33m'\u001b[39m\u001b[33m open.\u001b[39m\u001b[33m\"\u001b[39m\n\u001b[32m    341\u001b[39m     )\n\u001b[32m--> \u001b[39m\u001b[32m343\u001b[39m \u001b[38;5;28;01mreturn\u001b[39;00m \u001b[43mio_open\u001b[49m\u001b[43m(\u001b[49m\u001b[43mfile\u001b[49m\u001b[43m,\u001b[49m\u001b[43m \u001b[49m\u001b[43m*\u001b[49m\u001b[43margs\u001b[49m\u001b[43m,\u001b[49m\u001b[43m \u001b[49m\u001b[43m*\u001b[49m\u001b[43m*\u001b[49m\u001b[43mkwargs\u001b[49m\u001b[43m)\u001b[49m\n",
      "\u001b[31mFileNotFoundError\u001b[39m: [Errno 2] No such file or directory: '../data/raw/hand_keypoint_dataset_26k/coco_annotation/train/_annotations.coco.json'"
     ]
    }
   ],
   "source": [
    "coco_to_csv(\n",
    "    coco_json_path='../data/raw/hand_keypoint_dataset_26k/coco_annotation/train/_annotations.coco.json',\n",
    "    images_dir='../data/raw/hand_keypoint_dataset_26k/images/train',\n",
    "    output_csv='../data/preprocessed/train_keypoints.csv'\n",
    ")"
   ]
  },
  {
   "cell_type": "markdown",
   "id": "e6739536",
   "metadata": {},
   "source": []
  },
  {
   "cell_type": "markdown",
   "id": "182ce17e",
   "metadata": {},
   "source": []
  }
 ],
 "metadata": {
  "kernelspec": {
   "display_name": ".venv",
   "language": "python",
   "name": "python3"
  },
  "language_info": {
   "codemirror_mode": {
    "name": "ipython",
    "version": 3
   },
   "file_extension": ".py",
   "mimetype": "text/x-python",
   "name": "python",
   "nbconvert_exporter": "python",
   "pygments_lexer": "ipython3",
   "version": "3.13.2"
  }
 },
 "nbformat": 4,
 "nbformat_minor": 5
}

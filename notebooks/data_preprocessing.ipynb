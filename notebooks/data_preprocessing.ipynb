{
 "cells": [
  {
   "metadata": {},
   "cell_type": "markdown",
   "source": "# Download HaGRID data set from kaggle",
   "id": "305823914522f79d"
  },
  {
   "metadata": {
    "ExecuteTime": {
     "end_time": "2025-09-12T11:43:46.248770Z",
     "start_time": "2025-09-12T11:43:45.043853Z"
    }
   },
   "cell_type": "code",
   "source": "!pip install kaggle",
   "id": "b2b8b46e02b7ff88",
   "outputs": [
    {
     "name": "stdout",
     "output_type": "stream",
     "text": [
      "Requirement already satisfied: kaggle in c:\\users\\flees\\desktop\\f25\\.venv\\lib\\site-packages (1.7.4.5)\n",
      "Requirement already satisfied: bleach in c:\\users\\flees\\desktop\\f25\\.venv\\lib\\site-packages (from kaggle) (6.2.0)\n",
      "Requirement already satisfied: certifi>=14.05.14 in c:\\users\\flees\\desktop\\f25\\.venv\\lib\\site-packages (from kaggle) (2025.8.3)\n",
      "Requirement already satisfied: charset-normalizer in c:\\users\\flees\\desktop\\f25\\.venv\\lib\\site-packages (from kaggle) (3.4.3)\n",
      "Requirement already satisfied: idna in c:\\users\\flees\\desktop\\f25\\.venv\\lib\\site-packages (from kaggle) (3.10)\n",
      "Requirement already satisfied: protobuf in c:\\users\\flees\\desktop\\f25\\.venv\\lib\\site-packages (from kaggle) (6.32.0)\n",
      "Requirement already satisfied: python-dateutil>=2.5.3 in c:\\users\\flees\\desktop\\f25\\.venv\\lib\\site-packages (from kaggle) (2.9.0.post0)\n",
      "Requirement already satisfied: python-slugify in c:\\users\\flees\\desktop\\f25\\.venv\\lib\\site-packages (from kaggle) (8.0.4)\n",
      "Requirement already satisfied: requests in c:\\users\\flees\\desktop\\f25\\.venv\\lib\\site-packages (from kaggle) (2.32.5)\n",
      "Requirement already satisfied: setuptools>=21.0.0 in c:\\users\\flees\\desktop\\f25\\.venv\\lib\\site-packages (from kaggle) (68.2.0)\n",
      "Requirement already satisfied: six>=1.10 in c:\\users\\flees\\desktop\\f25\\.venv\\lib\\site-packages (from kaggle) (1.17.0)\n",
      "Requirement already satisfied: text-unidecode in c:\\users\\flees\\desktop\\f25\\.venv\\lib\\site-packages (from kaggle) (1.3)\n",
      "Requirement already satisfied: tqdm in c:\\users\\flees\\desktop\\f25\\.venv\\lib\\site-packages (from kaggle) (4.67.1)\n",
      "Requirement already satisfied: urllib3>=1.15.1 in c:\\users\\flees\\desktop\\f25\\.venv\\lib\\site-packages (from kaggle) (2.5.0)\n",
      "Requirement already satisfied: webencodings in c:\\users\\flees\\desktop\\f25\\.venv\\lib\\site-packages (from kaggle) (0.5.1)\n",
      "Requirement already satisfied: colorama in c:\\users\\flees\\desktop\\f25\\.venv\\lib\\site-packages (from tqdm->kaggle) (0.4.6)\n"
     ]
    }
   ],
   "execution_count": 1
  },
  {
   "metadata": {},
   "cell_type": "markdown",
   "source": [
    "## Kaggle API\n",
    "1. Go to your Kaggle account page: https://www.kaggle.com/\n",
    "2. Click on your profile picture in the top right and select \"Account\"\n",
    "3. Scroll down to the \"API\" section\n",
    "4. Click the \"Create New API Token\" button\n",
    "5. This will automatically download a file named kaggle.json to your computer\n",
    "6. Move or copy this file directly into the main (root) folder of this project"
   ],
   "id": "df95179cc13a9e20"
  },
  {
   "metadata": {
    "ExecuteTime": {
     "end_time": "2025-09-12T13:12:01.403232Z",
     "start_time": "2025-09-12T13:12:01.392870Z"
    }
   },
   "cell_type": "code",
   "source": [
    "import os\n",
    "\n",
    "kaggle_path = \"~/.kaggle/kaggle.json\"\n",
    "\n",
    "if not os.path.exists(os.path.expanduser(kaggle_path)):\n",
    "    print(f\"Smth went wrong!\\nkaggle.json not found on {kaggle_path}\")"
   ],
   "id": "3e4ff2e2bedb9da6",
   "outputs": [],
   "execution_count": 11
  },
  {
   "metadata": {
    "collapsed": true,
    "ExecuteTime": {
     "end_time": "2025-09-12T13:14:16.615101Z",
     "start_time": "2025-09-12T13:14:16.602151Z"
    }
   },
   "cell_type": "code",
   "source": [
    "def download_hagrid_annotation(output_dir=\"../data/raw/hagrid\"):\n",
    "    \"\"\"\n",
    "    Download the HaGRID dataset from Kaggle and extract into output_dir\n",
    "    Requires Kaggle API to be configured (kaggle.json in ~/.kaggle)\n",
    "    \"\"\"\n",
    "    os.makedirs(output_dir, exist_ok=True)\n",
    "\n",
    "    print(f\"Downloading HaGRID dataset into {output_dir}\")\n",
    "\n",
    "    !kaggle datasets download -d kapitanov/hagrid -p {output_dir} --unzip\n",
    "\n",
    "    if len(os.listdir(output_dir)) != 0:\n",
    "        print(f\"HaGRID dataset was downloaded in {output_dir}\")\n",
    "    else:\n",
    "        print(f\"Smth went wrong! \\n{output_dir} is empty\")"
   ],
   "id": "initial_id",
   "outputs": [],
   "execution_count": 13
  },
  {
   "metadata": {},
   "cell_type": "markdown",
   "source": [
    "## Download dataset from Kaggle using kagglehub\n",
    "\n",
    "Use this data set because:\n",
    "* Size and diversity: >550K images, 18 static gestures, different conditions (lighting, background, poses).\n",
    "* Diversity of people: many different hands, ages, genders - less risk of overfitting.\n",
    "* Realistic conditions: real-life images with different backgrounds, viewing angles\n",
    "* Ready-made gesture classes: (✊, ✋, ✌️, etc.) can be easily expanded for our custom idea\n",
    "\n",
    "__!!! Downloading can take more than 10 min__"
   ],
   "id": "43c5ea5e120e8c54"
  },
  {
   "metadata": {
    "ExecuteTime": {
     "end_time": "2025-09-12T13:25:28.630571Z",
     "start_time": "2025-09-12T13:14:18.607464Z"
    }
   },
   "cell_type": "code",
   "source": [
    "output_dir=\"../data/raw/hagrid\"\n",
    "download_hagrid_annotation(output_dir)"
   ],
   "id": "665788a4232e23dc",
   "outputs": [
    {
     "name": "stdout",
     "output_type": "stream",
     "text": [
      "Downloading HaGRID dataset into ../data/raw/hagrid\n",
      "Dataset URL: https://www.kaggle.com/datasets/kapitanov/hagrid\n",
      "License(s): CC-BY-SA-4.0\n",
      "Downloading hagrid.zip to ../data/raw/hagrid\n",
      "\n",
      "HaGRID dataset was downloaded in ../data/raw/hagrid\n"
     ]
    },
    {
     "name": "stderr",
     "output_type": "stream",
     "text": [
      "\n",
      "  0%|          | 0.00/338M [00:00<?, ?B/s]\n",
      " 54%|#####3    | 181M/338M [00:00<00:00, 1.08GB/s]\n",
      " 84%|########4 | 285M/338M [00:00<00:00, 512MB/s] \n",
      "100%|##########| 338M/338M [00:00<00:00, 517MB/s]\n"
     ]
    }
   ],
   "execution_count": 14
  },
  {
   "metadata": {},
   "cell_type": "markdown",
   "source": "## Analyze data",
   "id": "b8763178b542e75f"
  },
  {
   "metadata": {},
   "cell_type": "markdown",
   "source": [
    "## Preprocessing\n",
    "\n",
    "* Resize\n",
    "* Normalization"
   ],
   "id": "a4c45ab28eb0f22a"
  },
  {
   "metadata": {},
   "cell_type": "code",
   "outputs": [],
   "execution_count": null,
   "source": "",
   "id": "5c30ec1a5c261828"
  },
  {
   "metadata": {},
   "cell_type": "markdown",
   "source": "# Augmentation",
   "id": "7fe77a1f7b69c337"
  },
  {
   "metadata": {},
   "cell_type": "code",
   "outputs": [],
   "execution_count": null,
   "source": "",
   "id": "ac00aa41d4ca5048"
  },
  {
   "metadata": {},
   "cell_type": "markdown",
   "source": "### Show some examples for each class\n",
   "id": "de2e03fc93c650b5"
  },
  {
   "metadata": {},
   "cell_type": "code",
   "outputs": [],
   "execution_count": null,
   "source": "",
   "id": "27bd319b271ce56b"
  }
 ],
 "metadata": {
  "kernelspec": {
   "display_name": "Python 3",
   "language": "python",
   "name": "python3"
  },
  "language_info": {
   "codemirror_mode": {
    "name": "ipython",
    "version": 2
   },
   "file_extension": ".py",
   "mimetype": "text/x-python",
   "name": "python",
   "nbconvert_exporter": "python",
   "pygments_lexer": "ipython2",
   "version": "2.7.6"
  }
 },
 "nbformat": 4,
 "nbformat_minor": 5
}

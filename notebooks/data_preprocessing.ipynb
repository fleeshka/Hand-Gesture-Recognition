{
 "cells": [
  {
   "metadata": {},
   "cell_type": "markdown",
   "source": "# Download HaGRID data set from kaggle",
   "id": "305823914522f79d"
  },
  {
   "metadata": {
    "ExecuteTime": {
     "end_time": "2025-09-11T17:31:08.565933Z",
     "start_time": "2025-09-11T17:31:07.233178Z"
    }
   },
   "cell_type": "code",
   "source": [
    "# Install dependencies as needed:\n",
    "!pip install kagglehub[pandas-datasets]"
   ],
   "id": "12867ffd68f388d2",
   "outputs": [
    {
     "name": "stdout",
     "output_type": "stream",
     "text": [
      "Requirement already satisfied: kagglehub[pandas-datasets] in c:\\users\\flees\\desktop\\f25\\.venv\\lib\\site-packages (0.3.13)\n",
      "Requirement already satisfied: packaging in c:\\users\\flees\\desktop\\f25\\.venv\\lib\\site-packages (from kagglehub[pandas-datasets]) (25.0)\n",
      "Requirement already satisfied: pyyaml in c:\\users\\flees\\desktop\\f25\\.venv\\lib\\site-packages (from kagglehub[pandas-datasets]) (6.0.2)\n",
      "Requirement already satisfied: requests in c:\\users\\flees\\desktop\\f25\\.venv\\lib\\site-packages (from kagglehub[pandas-datasets]) (2.32.5)\n",
      "Requirement already satisfied: tqdm in c:\\users\\flees\\desktop\\f25\\.venv\\lib\\site-packages (from kagglehub[pandas-datasets]) (4.67.1)\n",
      "Requirement already satisfied: pandas in c:\\users\\flees\\desktop\\f25\\.venv\\lib\\site-packages (from kagglehub[pandas-datasets]) (2.3.2)\n",
      "Requirement already satisfied: numpy>=1.22.4 in c:\\users\\flees\\desktop\\f25\\.venv\\lib\\site-packages (from pandas->kagglehub[pandas-datasets]) (2.2.6)\n",
      "Requirement already satisfied: python-dateutil>=2.8.2 in c:\\users\\flees\\desktop\\f25\\.venv\\lib\\site-packages (from pandas->kagglehub[pandas-datasets]) (2.9.0.post0)\n",
      "Requirement already satisfied: pytz>=2020.1 in c:\\users\\flees\\desktop\\f25\\.venv\\lib\\site-packages (from pandas->kagglehub[pandas-datasets]) (2025.2)\n",
      "Requirement already satisfied: tzdata>=2022.7 in c:\\users\\flees\\desktop\\f25\\.venv\\lib\\site-packages (from pandas->kagglehub[pandas-datasets]) (2025.2)\n",
      "Requirement already satisfied: six>=1.5 in c:\\users\\flees\\desktop\\f25\\.venv\\lib\\site-packages (from python-dateutil>=2.8.2->pandas->kagglehub[pandas-datasets]) (1.17.0)\n",
      "Requirement already satisfied: charset_normalizer<4,>=2 in c:\\users\\flees\\desktop\\f25\\.venv\\lib\\site-packages (from requests->kagglehub[pandas-datasets]) (3.4.3)\n",
      "Requirement already satisfied: idna<4,>=2.5 in c:\\users\\flees\\desktop\\f25\\.venv\\lib\\site-packages (from requests->kagglehub[pandas-datasets]) (3.10)\n",
      "Requirement already satisfied: urllib3<3,>=1.21.1 in c:\\users\\flees\\desktop\\f25\\.venv\\lib\\site-packages (from requests->kagglehub[pandas-datasets]) (2.5.0)\n",
      "Requirement already satisfied: certifi>=2017.4.17 in c:\\users\\flees\\desktop\\f25\\.venv\\lib\\site-packages (from requests->kagglehub[pandas-datasets]) (2025.8.3)\n",
      "Requirement already satisfied: colorama in c:\\users\\flees\\desktop\\f25\\.venv\\lib\\site-packages (from tqdm->kagglehub[pandas-datasets]) (0.4.6)\n"
     ]
    }
   ],
   "execution_count": 3
  },
  {
   "metadata": {},
   "cell_type": "code",
   "outputs": [],
   "execution_count": null,
   "source": "pip install kaggle",
   "id": "b2b8b46e02b7ff88"
  },
  {
   "metadata": {},
   "cell_type": "markdown",
   "source": [
    "## Download dataset from Kaggle using kagglehub\n",
    "\n",
    "Use this data set because:\n",
    "* Size and diversity: >550K images, 18 static gestures, different conditions (lighting, background, poses).\n",
    "* Diversity of people: many different hands, ages, genders - less risk of overfitting.\n",
    "* Realistic conditions: real-life images with different backgrounds, viewing angles\n",
    "* Ready-made gesture classes: (✊, ✋, ✌️, etc.) can be easily expanded for our custom idea\n"
   ],
   "id": "43c5ea5e120e8c54"
  },
  {
   "metadata": {
    "collapsed": true,
    "ExecuteTime": {
     "end_time": "2025-09-11T16:32:50.966384Z",
     "start_time": "2025-09-11T16:23:08.516223Z"
    }
   },
   "cell_type": "code",
   "source": [
    "import kagglehub\n",
    "\n",
    "def download_hagrid(output_dir=\"data/raw/hagrid\"):\n",
    "    # Download latest version\n",
    "    path = kagglehub.dataset_download(\"kapitanov/hagrid\")\n",
    "\n",
    "    print(\"Path to dataset files:\", path)"
   ],
   "id": "initial_id",
   "outputs": [
    {
     "name": "stderr",
     "output_type": "stream",
     "text": [
      "C:\\Users\\flees\\Desktop\\F25\\.venv\\lib\\site-packages\\tqdm\\auto.py:21: TqdmWarning: IProgress not found. Please update jupyter and ipywidgets. See https://ipywidgets.readthedocs.io/en/stable/user_install.html\n",
      "  from .autonotebook import tqdm as notebook_tqdm\n"
     ]
    },
    {
     "name": "stdout",
     "output_type": "stream",
     "text": [
      "Downloading from https://www.kaggle.com/api/v1/datasets/download/kapitanov/hagrid?dataset_version_number=3...\n"
     ]
    },
    {
     "name": "stderr",
     "output_type": "stream",
     "text": [
      "100%|██████████| 338M/338M [09:34<00:00, 616kB/s] "
     ]
    },
    {
     "name": "stdout",
     "output_type": "stream",
     "text": [
      "Extracting files...\n"
     ]
    },
    {
     "name": "stderr",
     "output_type": "stream",
     "text": [
      "\n"
     ]
    },
    {
     "name": "stdout",
     "output_type": "stream",
     "text": [
      "Path to dataset files: C:\\Users\\flees\\.cache\\kagglehub\\datasets\\kapitanov\\hagrid\\versions\\3\n"
     ]
    }
   ],
   "execution_count": 1
  }
 ],
 "metadata": {
  "kernelspec": {
   "display_name": "Python 3",
   "language": "python",
   "name": "python3"
  },
  "language_info": {
   "codemirror_mode": {
    "name": "ipython",
    "version": 2
   },
   "file_extension": ".py",
   "mimetype": "text/x-python",
   "name": "python",
   "nbconvert_exporter": "python",
   "pygments_lexer": "ipython2",
   "version": "2.7.6"
  }
 },
 "nbformat": 4,
 "nbformat_minor": 5
}

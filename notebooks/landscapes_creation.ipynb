{
 "cells": [
  {
   "cell_type": "code",
   "execution_count": null,
   "id": "initial_id",
   "metadata": {
    "collapsed": true
   },
   "outputs": [],
   "source": [
    "import cv2\n",
    "import mediapipe as mp\n",
    "import pandas as pd\n",
    "import numpy as np\n",
    "import os\n",
    "\n",
    "mp_hands = mp.solutions.hands\n",
    "mp_drawing = mp.solutions.drawing_utils\n",
    "\n",
    "\n",
    "def extract_hand_landmarks(image_path, label=None, output_csv='hand_keypoints.csv', draw=False):\n",
    "\n",
    "    hands = mp_hands.Hands(static_image_mode=True, max_num_hands=1, min_detection_confidence=0.5)\n",
    "\n",
    "    image = cv2.imread(image_path)\n",
    "    if image is None:\n",
    "        raise ValueError(f\"Could not read image from path: {image_path}\")\n",
    "    image_rgb = cv2.cvtColor(image, cv2.COLOR_BGR2RGB)\n",
    "\n",
    "    results = hands.process(image_rgb)\n",
    "\n",
    "    if not results.multi_hand_landmarks:\n",
    "        print(f\"No hands detected in {image_path}\")\n",
    "        return None\n",
    "\n",
    "    hand_landmarks = results.multi_hand_landmarks[0]\n",
    "    landmarks = []\n",
    "    for lm in hand_landmarks.landmark:\n",
    "        landmarks.append(lm.x)\n",
    "        landmarks.append(lm.y)\n",
    "\n",
    "    data_row = np.array(landmarks)\n",
    "\n",
    "    if draw:\n",
    "        annotated = image.copy()\n",
    "        mp_drawing.draw_landmarks(\n",
    "            annotated, hand_landmarks, mp_hands.HAND_CONNECTIONS)\n",
    "        cv2.imshow(\"Hand Landmarks\", annotated)\n",
    "        cv2.waitKey(0)\n",
    "        cv2.destroyAllWindows()\n",
    "\n",
    "    df = pd.DataFrame([data_row])\n",
    "    if label is not None:\n",
    "        df['label'] = label  # !!!!!!!!! append gesture label at the end\n",
    "\n",
    "    if not os.path.exists(output_csv):\n",
    "        df.to_csv(output_csv, index=False)\n",
    "    else:\n",
    "        df.to_csv(output_csv, mode='a', header=False, index=False)\n",
    "\n",
    "    print(f\"Saved landmarks for {image_path} to {output_csv}\")\n",
    "    return data_row"
   ]
  }
 ],
 "metadata": {
  "kernelspec": {
   "display_name": "Python 3",
   "language": "python",
   "name": "python3"
  },
  "language_info": {
   "codemirror_mode": {
    "name": "ipython",
    "version": 2
   },
   "file_extension": ".py",
   "mimetype": "text/x-python",
   "name": "python",
   "nbconvert_exporter": "python",
   "pygments_lexer": "ipython2",
   "version": "2.7.6"
  }
 },
 "nbformat": 4,
 "nbformat_minor": 5
}
